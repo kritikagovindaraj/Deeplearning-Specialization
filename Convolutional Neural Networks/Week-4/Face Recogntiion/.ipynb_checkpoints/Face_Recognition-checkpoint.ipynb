{
 "cells": [
  {
   "cell_type": "markdown",
   "metadata": {},
   "source": [
    "# Face Recognition\n",
    "\n",
    "Welcome! In this assignment, you're going to build a face recognition system. Many of the ideas presented here are from [FaceNet](https://arxiv.org/pdf/1503.03832.pdf). In the lecture, you also encountered [DeepFace](https://research.fb.com/wp-content/uploads/2016/11/deepface-closing-the-gap-to-human-level-performance-in-face-verification.pdf).\n",
    "\n",
    "Face recognition problems commonly fall into one of two categories: \n",
    "\n",
    "**Face Verification** \"Is this the claimed person?\" For example, at some airports, you can pass through customs by letting a system scan your passport and then verifying that you (the person carrying the passport) are the correct person. A mobile phone that unlocks using your face is also using face verification. This is a 1:1 matching problem.\n",
    "\n",
    "**Face Recognition** \"Who is this person?\" For example, the video lecture showed a [face recognition video](https://www.youtube.com/watch?v=wr4rx0Spihs) of Baidu employees entering the office without needing to otherwise identify themselves. This is a 1:K matching problem.\n",
    "\n",
    "FaceNet learns a neural network that encodes a face image into a vector of 128 numbers. By comparing two such vectors, you can then determine if two pictures are of the same person.\n",
    "\n",
    "By the end of this assignment, you'll be able to: \n",
    "\n",
    "* Differentiate between face recognition and face verification\n",
    "* Implement one-shot learning to solve a face recognition problem\n",
    "* Apply the triplet loss function to learn a network's parameters in the context of face recognition\n",
    "* Explain how to pose face recognition as a binary classification problem\n",
    "* Map face images into 128-dimensional encodings using a pretrained model\n",
    "* Perform face verification and face recognition with these encodings\n",
    "\n",
    "**Channels-last notation**\n",
    "\n",
    "For this assignment, you'll be using a pre-trained model which represents ConvNet activations using a \"channels last\" convention, as used during the lecture and in previous programming assignments.\n",
    "\n",
    "In other words, a batch of images will be of shape $(m, n_H, n_W, n_C)$. \n",
    "\n",
    "## Important Note on Submission to the AutoGrader\n",
    "\n",
    "Before submitting your assignment to the AutoGrader, please make sure you are not doing the following:\n",
    "\n",
    "1. You have not added any _extra_ `print` statement(s) in the assignment.\n",
    "2. You have not added any _extra_ code cell(s) in the assignment.\n",
    "3. You have not changed any of the function parameters.\n",
    "4. You are not using any global variables inside your graded exercises. Unless specifically instructed to do so, please refrain from it and use the local variables instead.\n",
    "5. You are not changing the assignment code where it is not required, like creating _extra_ variables.\n",
    "\n",
    "If you do any of the following, you will get something like, `Grader Error: Grader feedback not found` (or similarly unexpected) error upon submitting your assignment. Before asking for help/debugging the errors in your assignment, check for these first. If this is the case, and you don't remember the changes you have made, you can get a fresh copy of the assignment by following these [instructions](https://www.coursera.org/learn/convolutional-neural-networks/supplement/DS4yP/h-ow-to-refresh-your-workspace)."
   ]
  },
  {
   "cell_type": "markdown",
   "metadata": {},
   "source": [
    "## Table of Contents\n",
    "\n",
    "- [1 - Packages](#1)\n",
    "- [2 - Naive Face Verification](#2)\n",
    "- [3 - Encoding Face Images into a 128-Dimensional Vector](#3)\n",
    "    - [3.1 - Using a ConvNet to Compute Encodings](#3-1)\n",
    "    - [3.2 - The Triplet Loss](#3-2)\n",
    "        - [Exercise 1 - triplet_loss](#ex-1)\n",
    "- [4 - Loading the Pre-trained Model](#4)\n",
    "- [5 - Applying the Model](#5)\n",
    "    - [5.1 - Face Verification](#5-1)\n",
    "        - [Exercise 2 - verify](#ex-2)\n",
    "    - [5.2 - Face Recognition](#5-2)\n",
    "        - [Exercise 3 - who_is_it](#ex-3)\n",
    "- [6 - References](#6)"
   ]
  },
  {
   "cell_type": "markdown",
   "metadata": {},
   "source": [
    "<a name='1'></a>\n",
    "## 1 - Packages\n",
    "\n",
    "Go ahead and run the cell below to import the packages you'll need."
   ]
  },
  {
   "cell_type": "code",
   "execution_count": 1,
   "metadata": {
    "deletable": false,
    "editable": false
   },
   "outputs": [],
   "source": [
    "### v1.1"
   ]
  },
  {
   "cell_type": "code",
   "execution_count": 2,
   "metadata": {},
   "outputs": [],
   "source": [
    "from tensorflow.keras.models import Sequential\n",
    "from tensorflow.keras.layers import Conv2D, ZeroPadding2D, Activation, Input, concatenate\n",
    "from tensorflow.keras.models import Model\n",
    "from tensorflow.keras.layers import BatchNormalization\n",
    "from tensorflow.keras.layers import MaxPooling2D, AveragePooling2D\n",
    "from tensorflow.keras.layers import Concatenate\n",
    "from tensorflow.keras.layers import Lambda, Flatten, Dense\n",
    "from tensorflow.keras.initializers import glorot_uniform\n",
    "from tensorflow.keras.layers import Layer\n",
    "from tensorflow.keras import backend as K\n",
    "K.set_image_data_format('channels_last')\n",
    "import os\n",
    "import numpy as np\n",
    "from numpy import genfromtxt\n",
    "import pandas as pd\n",
    "import tensorflow as tf\n",
    "import PIL\n",
    "\n",
    "%matplotlib inline\n",
    "%load_ext autoreload\n",
    "%autoreload 2"
   ]
  },
  {
   "cell_type": "markdown",
   "metadata": {},
   "source": [
    "<a name='2'></a>\n",
    "## 2 - Naive Face Verification\n",
    "\n",
    "In Face Verification, you're given two images and you have to determine if they are of the same person. The simplest way to do this is to compare the two images pixel-by-pixel. If the distance between the raw images is below a chosen threshold, it may be the same person!\n",
    "\n",
    "<img src=\"images/pixel_comparison.png\" style=\"width:380px;height:150px;\">\n",
    "<caption><center> <u> <font color='purple'> <b>Figure 1</b> </u></center></caption>\n",
    "\n",
    "Of course, this algorithm performs poorly, since the pixel values change dramatically due to variations in lighting, orientation of the person's face, minor changes in head position, and so on.\n",
    "\n",
    "You'll see that rather than using the raw image, you can learn an encoding, $f(img)$.\n",
    "\n",
    "By using an encoding for each image, an element-wise comparison produces a more accurate judgement as to whether two pictures are of the same person."
   ]
  },
  {
   "cell_type": "markdown",
   "metadata": {},
   "source": [
    "<a name='3'></a>\n",
    "## 3 - Encoding Face Images into a 128-Dimensional Vector\n",
    "\n",
    "<a name='3-1'></a>\n",
    "### 3.1 - Using a ConvNet to Compute Encodings\n",
    "\n",
    "The FaceNet model takes a lot of data and a long time to train. So following the common practice in applied deep learning, you'll load weights that someone else has already trained. The network architecture follows the Inception model from [Szegedy *et al*..](https://arxiv.org/abs/1409.4842) An Inception network implementation has been provided for you, and you can find it in the file `inception_blocks_v2.py` to get a closer look at how it is implemented.  \n",
    "\n",
    "*Hot tip:* Go to \"File->Open...\" at the top of this notebook. This opens the file directory that contains the `.py` file).\n",
    "\n",
    "The key things to be aware of are:\n",
    "\n",
    "- This network uses 160x160 dimensional RGB images as its input. Specifically, a face image (or batch of $m$ face images) as a tensor of shape $(m, n_H, n_W, n_C) = (m, 160, 160, 3)$\n",
    "- The input images are originally of shape 96x96, thus, you need to scale them to 160x160. This is done in the `img_to_encoding()` function.\n",
    "- The output is a matrix of shape $(m, 128)$ that encodes each input face image into a 128-dimensional vector\n",
    "\n",
    "Run the cell below to create the model for face images!"
   ]
  },
  {
   "cell_type": "code",
   "execution_count": 3,
   "metadata": {},
   "outputs": [],
   "source": [
    "from tensorflow.keras.models import model_from_json\n",
    "\n",
    "json_file = open('keras-facenet-h5/model.json', 'r')\n",
    "loaded_model_json = json_file.read()\n",
    "json_file.close()\n",
    "model = model_from_json(loaded_model_json)\n",
    "model.load_weights('keras-facenet-h5/model.h5')"
   ]
  },
  {
   "cell_type": "markdown",
   "metadata": {},
   "source": [
    "Now summarize the input and output shapes: "
   ]
  },
  {
   "cell_type": "code",
   "execution_count": 4,
   "metadata": {},
   "outputs": [
    {
     "name": "stdout",
     "output_type": "stream",
     "text": [
      "[<tf.Tensor 'input_1:0' shape=(None, 160, 160, 3) dtype=float32>]\n",
      "[<tf.Tensor 'Bottleneck_BatchNorm/batchnorm/add_1:0' shape=(None, 128) dtype=float32>]\n"
     ]
    }
   ],
   "source": [
    "print(model.inputs)\n",
    "print(model.outputs)"
   ]
  },
  {
   "cell_type": "markdown",
   "metadata": {},
   "source": [
    "By using a 128-neuron fully connected layer as its last layer, the model ensures that the output is an encoding vector of size 128. You then use the encodings to compare two face images as follows:\n",
    "\n",
    "<img src=\"images/distance_kiank.png\\\" style=\"width:680px;height:250px;\">\n",
    "<caption><center> <u> <font color='purple'> <b>Figure 2:</b> <br> </u> <font color='purple'>By computing the distance between two encodings and thresholding, you can determine if the two pictures represent the same person</center></caption>\n",
    "\n",
    "So, an encoding is a good one if:\n",
    "\n",
    "- The encodings of two images of the same person are quite similar to each other.\n",
    "- The encodings of two images of different persons are very different.\n",
    "\n",
    "The triplet loss function formalizes this, and tries to \"push\" the encodings of two images of the same person (Anchor and Positive) closer together, while \"pulling\" the encodings of two images of different persons (Anchor, Negative) further apart.\n",
    "    \n",
    "<img src=\"images/triplet_comparison.png\" style=\"width:280px;height:150px;\"><br>\n",
    "<caption><center> <u> <font color='purple'> <b>Figure 3: </b> <br> </u> <font color='purple'> In the next section,  you'll call the pictures from left to right: Anchor (A), Positive (P), Negative (N)</center></caption>"
   ]
  },
  {
   "cell_type": "markdown",
   "metadata": {},
   "source": [
    "<a name='3-2'></a>\n",
    "### 3.2 - The Triplet Loss\n",
    "\n",
    "**Important Note**: Since you're using a pretrained model, you won't actually need to implement the triplet loss function in this assignment. *However*, the triplet loss is the main ingredient of the face recognition algorithm, and you'll need to know how to use it for training your own FaceNet model, as well as other types of image similarity problems. Therefore, you'll implement it below, for fun and edification. :) \n",
    "\n",
    "For an image $x$, its encoding is denoted as $f(x)$, where $f$ is the function computed by the neural network.\n",
    "\n",
    "<img src=\"images/f_x.png\" style=\"width:380px;height:150px;\">\n",
    "\n",
    "Training will use triplets of images $(A, P, N)$:\n",
    "\n",
    "- A is an \"Anchor\" image--a picture of a person.\n",
    "- P is a \"Positive\" image--a picture of the same person as the Anchor image.\n",
    "- N is a \"Negative\" image--a picture of a different person than the Anchor image.\n",
    "\n",
    "These triplets are picked from the training dataset. $(A^{(i)}, P^{(i)}, N^{(i)})$ is used here to denote the $i$-th training example.\n",
    "\n",
    "You'd like to make sure that an image $A^{(i)}$ of an individual is closer to the Positive $P^{(i)}$ than to the Negative image $N^{(i)}$) by at least a margin $\\alpha$:\n",
    "\n",
    "$$\n",
    "|| f\\left(A^{(i)}\\right)-f\\left(P^{(i)}\\right)||_{2}^{2}+\\alpha<|| f\\left(A^{(i)}\\right)-f\\left(N^{(i)}\\right)||_{2}^{2}\n",
    "$$\n",
    "\n",
    "\n",
    "You would thus like to minimize the following \"triplet cost\":\n",
    "\n",
    "$$\\mathcal{J} = \\sum^{m}_{i=1} \\large[ \\small \\underbrace{\\mid \\mid f(A^{(i)}) - f(P^{(i)}) \\mid \\mid_2^2}_\\text{(1)} - \\underbrace{\\mid \\mid f(A^{(i)}) - f(N^{(i)}) \\mid \\mid_2^2}_\\text{(2)} + \\alpha \\large ] \\small_+ \\tag{3}$$\n",
    "Here, the notation \"$[z]_+$\" is used to denote $max(z,0)$.\n",
    "\n",
    "**Notes**:\n",
    "\n",
    "- The term (1) is the squared distance between the anchor \"A\" and the positive \"P\" for a given triplet; you want this to be small.\n",
    "- The term (2) is the squared distance between the anchor \"A\" and the negative \"N\" for a given triplet, you want this to be relatively large. It has a minus sign preceding it because minimizing the negative of the term is the same as maximizing that term.\n",
    "- $\\alpha$ is called the margin. It's a hyperparameter that you pick manually. You'll use $\\alpha = 0.2$.\n",
    "\n",
    "Most implementations also rescale the encoding vectors to haven L2 norm equal to one (i.e., $\\mid \\mid f(img)\\mid \\mid_2$=1); you won't have to worry about that in this assignment.\n",
    "\n",
    "<a name='ex-1'></a>\n",
    "### Exercise 1 - triplet_loss\n",
    "\n",
    "Implement the triplet loss as defined by formula (3). These are the 4 steps:\n",
    "\n",
    "1. Compute the distance between the encodings of \"anchor\" and \"positive\": $\\mid \\mid f(A^{(i)}) - f(P^{(i)}) \\mid \\mid_2^2$\n",
    "2. Compute the distance between the encodings of \"anchor\" and \"negative\": $\\mid \\mid f(A^{(i)}) - f(N^{(i)}) \\mid \\mid_2^2$\n",
    "3. Compute the formula per training example: $ \\mid \\mid f(A^{(i)}) - f(P^{(i)}) \\mid \\mid_2^2 - \\mid \\mid f(A^{(i)}) - f(N^{(i)}) \\mid \\mid_2^2 + \\alpha$\n",
    "4. Compute the full formula by taking the max with zero and summing over the training examples:$$\\mathcal{J} = \\sum^{m}_{i=1} \\large[ \\small \\mid \\mid f(A^{(i)}) - f(P^{(i)}) \\mid \\mid_2^2 - \\mid \\mid f(A^{(i)}) - f(N^{(i)}) \\mid \\mid_2^2+ \\alpha \\large ] \\small_+ \\tag{3}$$\n",
    "\n",
    "*Hints*:\n",
    "\n",
    "- Useful functions: `tf.reduce_sum()`, `tf.square()`, `tf.subtract()`, `tf.add()`, `tf.maximum()`.\n",
    "\n",
    "- For steps 1 and 2, sum over the entries of $\\mid \\mid f(A^{(i)}) - f(P^{(i)}) \\mid \\mid_2^2$ and $\\mid \\mid     f(A^{(i)}) - f(N^{(i)}) \\mid \\mid_2^2$.\n",
    "\n",
    "- For step 4, you will sum over the training examples.\n",
    "\n",
    "*Additional Hints*:\n",
    "\n",
    "- Recall that the square of the L2 norm is the sum of the squared differences: $||x - y||_{2}^{2} = \\sum_{i=1}^{N}(x_{i} - y_{i})^{2}$\n",
    "\n",
    "- Note that the anchor, positive and negative encodings are of shape (*m*,128), where *m* is the number of training examples and 128 is the number of elements used to encode a single example.\n",
    "\n",
    "- For steps 1 and 2, maintain the number of *m* training examples and sum along the 128 values of each encoding. `tf.reduce_sum` has an axis parameter. This chooses along which axis the sums are applied.\n",
    "\n",
    "- Note that one way to choose the last axis in a tensor is to use negative indexing (axis=-1).\n",
    "\n",
    "- In step 4, when summing over training examples, the result will be a single scalar value.\n",
    "\n",
    "- For `tf.reduce_sum` to sum across all axes, keep the default value axis=None."
   ]
  },
  {
   "cell_type": "code",
   "execution_count": 19,
   "metadata": {
    "nbgrader": {
     "grade": false,
     "grade_id": "cell-f05732f7068382cb",
     "locked": false,
     "schema_version": 3,
     "solution": true,
     "task": false
    }
   },
   "outputs": [],
   "source": [
    "# UNQ_C1(UNIQUE CELL IDENTIFIER, DO NOT EDIT)\n",
    "# GRADED FUNCTION: triplet_loss\n",
    "\n",
    "def triplet_loss(y_true, y_pred, alpha = 0.2):\n",
    "    \"\"\"\n",
    "    Implementation of the triplet loss as defined by formula (3)\n",
    "    \n",
    "    Arguments:\n",
    "    y_true -- true labels, required when you define a loss in Keras, you don't need it in this function.\n",
    "    y_pred -- python list containing three objects:\n",
    "            anchor -- the encodings for the anchor images, of shape (None, 128)\n",
    "            positive -- the encodings for the positive images, of shape (None, 128)\n",
    "            negative -- the encodings for the negative images, of shape (None, 128)\n",
    "    \n",
    "    Returns:\n",
    "    loss -- real number, value of the loss\n",
    "    \"\"\"\n",
    "    \n",
    "    anchor, positive, negative = y_pred[0], y_pred[1], y_pred[2]\n",
    "    \n",
    "    ### START CODE HERE\n",
    "    #(≈ 4 lines)\n",
    "    # Step 1: Compute the (encoding) distance between the anchor and the positive\n",
    "    pos_dist = tf.square(tf.subtract(anchor, positive))\n",
    "    # Step 2: Compute the (encoding) distance between the anchor and the negative\n",
    "    neg_dist = tf.square(tf.subtract(anchor, negative))\n",
    "    # Step 3: subtract the two previous distances and add alpha.\n",
    "    basic_loss = tf.add(tf.subtract(pos_dist, neg_dist), alpha)\n",
    "    print(basic_loss)\n",
    "    # Step 4: Take the maximum of basic_loss and 0.0. Sum over the training examples.\n",
    "    loss = tf.reduce_sum(basic_loss), 0.0)\n",
    "    ### END CODE HERE\n",
    "    \n",
    "    return loss"
   ]
  },
  {
   "cell_type": "code",
   "execution_count": 20,
   "metadata": {
    "deletable": false,
    "editable": false,
    "nbgrader": {
     "grade": true,
     "grade_id": "cell-440ff81e6bcda96a",
     "locked": true,
     "points": 1,
     "schema_version": 3,
     "solution": false,
     "task": false
    }
   },
   "outputs": [
    {
     "name": "stdout",
     "output_type": "stream",
     "text": [
      "tf.Tensor(\n",
      "[[ 1.31303387e+01  1.49366379e+01 -6.26143303e+01 -1.57513285e+01\n",
      "   2.88045940e+01  1.45326242e+01  2.57127552e+01  1.52213964e+01\n",
      "   1.97137985e+01 -9.05885468e+01  3.38236084e+01 -3.77318916e+01\n",
      "  -2.15713382e+00  2.77598114e+01 -1.29262614e+00 -4.55021133e+01\n",
      "   3.63170552e+00  4.34047585e+01  3.07324581e+01  1.15940404e+00\n",
      "   6.31169415e+00 -7.29367599e+01  1.44899330e+01  2.69414406e+01\n",
      "  -6.02312813e+01  3.03793926e+01  1.51036835e+01  6.51154566e+00\n",
      "   2.13572006e+01 -2.16124401e+01  1.87784977e+01  1.03486557e+01\n",
      "  -2.36403255e+01  1.72492886e+01 -2.08591213e+01  2.94095764e+01\n",
      "  -2.85466022e+01  1.69028645e+01 -4.33731270e+01 -7.53759861e+00\n",
      "   3.21041756e+01  2.69775581e+01  9.48150158e+00 -1.57053065e+00\n",
      "  -4.13106689e+01  2.21948566e+01 -1.45361147e+01  6.07426357e+00\n",
      "  -1.69407597e+01  1.78727188e+01 -2.67961903e+01  2.43526001e+01\n",
      "  -1.41571646e+01 -3.51111984e+01 -7.60644150e+01 -9.52683029e+01\n",
      "   1.13581204e+00  3.92034650e+00 -3.16742015e+00 -9.41685200e+00\n",
      "   1.85638142e+01  1.62171307e+01 -6.65447464e+01  5.25466949e-02\n",
      "   3.44176979e+01  1.25906525e+01 -9.93458569e-01  2.49634018e+01\n",
      "  -7.65831909e+01  2.63540421e+01  4.64319992e+00 -1.91037350e+01\n",
      "  -1.94965169e-01 -9.22498627e+01 -7.69963913e+01 -3.27021217e+01\n",
      "   8.24010372e+00  1.31815481e+01  1.55411348e+01 -8.92700729e+01\n",
      "  -7.57170105e+01  3.20620041e+01 -4.67570190e+01 -2.94319153e+01\n",
      "  -5.18679905e+00  1.93619576e+01  3.83141403e+01 -3.66188965e+01\n",
      "   2.58511200e+01  1.50997553e+01  1.16924543e+01  4.43083572e+01\n",
      "   1.86001663e+01 -6.38319817e+01 -1.62432671e+01  1.41612744e+00\n",
      "   3.48649483e+01  2.76013069e+01 -1.52229452e+01  3.60460777e+01\n",
      "   2.52522907e+01  2.31044464e+01  3.29376869e+01  2.01531258e+01\n",
      "  -1.49038196e+00 -1.94827633e+01  1.38764544e+01  1.50647459e+01\n",
      "  -7.24485779e+01 -8.31590271e+01  2.61174641e+01  3.27904625e+01\n",
      "   1.70921669e+01  8.69839001e+00  1.01097794e+01  1.78976479e+01\n",
      "  -4.78684120e+01 -1.72285767e+01  5.84941673e+00 -2.46510754e+01\n",
      "  -2.06528427e+02  1.10740495e+00 -6.25405922e+01 -4.20519066e+01\n",
      "   4.30850410e+01  4.21973133e+00  8.72740650e+00  1.51216440e+01]\n",
      " [-5.64957523e+00  1.34028387e+01  1.03928003e+01  4.04689751e+01\n",
      "  -3.70047340e+01  2.58989239e+01  2.39157505e+01  2.65792007e+01\n",
      "   3.95628548e+01  2.66239624e+01  2.70080280e+01  9.58601379e+00\n",
      "   1.16190500e+01 -1.59548883e+01  1.79600677e+01  2.04603672e+01\n",
      "  -1.49741144e+01  2.68805008e+01 -2.20738277e+01  4.73492527e+00\n",
      "  -4.93231964e+00  1.36377735e+01  2.18037262e+01 -1.46312189e+01\n",
      "   2.03408813e+01  7.15503693e+00 -1.07366991e+01  2.08040161e+01\n",
      "   2.37946854e+01  1.91589203e+01  1.06442766e+01  3.78084068e+01\n",
      "  -1.49537420e+01 -7.26302624e+00 -6.34744492e+01  1.51856108e+01\n",
      "   2.14225330e+01 -4.84558907e+01  2.15024414e+01 -7.31853333e+01\n",
      "  -1.15796957e+01  2.97987804e+01  8.97146893e+00  1.34158754e+01\n",
      "   5.28121948e+00  1.70046844e+01  1.33027887e+01  1.16753750e+01\n",
      "   3.18682976e+01  4.55877991e+01  2.15915222e+01  2.88346710e+01\n",
      "   1.88148117e+01  1.88246083e+00 -6.76807880e+00  1.83123302e+01\n",
      "   1.34590111e+01 -3.18891068e+01  3.08047428e+01  1.35070772e+01\n",
      "   3.77636986e+01  1.15720625e+01  3.69836032e-01 -8.80986035e-01\n",
      "  -5.98501778e+01  8.21888161e+00 -1.91794319e+01  3.09300747e+01\n",
      "   3.55049324e+01  1.38897295e+01 -2.30228496e+00 -6.01017952e+01\n",
      "  -5.66395092e+00 -7.19037857e+01  1.76647301e+01  2.51459465e+01\n",
      "   4.24049873e+01  1.35039997e+01 -5.63239098e+01  4.53036487e-01\n",
      "   2.80537724e+00  4.54493866e+01  1.08210278e+01 -8.11549530e+01\n",
      "   4.32938423e+01 -5.75938320e+00  2.80098724e+01  2.45786343e+01\n",
      "   5.03221703e+01  1.88710213e+01 -1.05803566e+02 -1.33255765e-01\n",
      "   2.46408978e+01  1.93757648e+01  9.18653393e+00 -2.58070354e+01\n",
      "  -1.54712250e+02  3.12758160e+01  2.25631313e+01  2.94042759e+01\n",
      "   3.00145454e+01  1.76031041e+00  3.02367916e+01 -3.43527603e+01\n",
      "   1.68386040e+01  3.02303391e+01  1.11878910e+01 -2.37875443e+01\n",
      "  -5.35955143e+00  1.66684952e+01  4.35210152e+01  1.73380489e+01\n",
      "   3.64425964e+01  2.37780056e+01 -1.36339264e+01 -1.25847101e+01\n",
      "   2.32528725e+01  2.91907063e+01 -3.10870857e+01 -2.79285126e+01\n",
      "   1.56971979e+01 -6.33898067e+00  2.50133824e+00  6.45685101e+00\n",
      "   2.81655521e+01 -4.87887154e+01 -8.32702637e+01  2.91290245e+01]\n",
      " [-1.50141830e+02  4.13470936e+00  1.14336596e+01 -5.74557953e+01\n",
      "   1.55001564e+01  9.46080685e+00  2.08026886e+01  3.05166225e+01\n",
      "  -7.16696560e-01  3.59114151e+01 -1.40980663e+01  1.95838094e+00\n",
      "  -1.27363911e+01  2.06244640e+01  8.58401775e+00  1.20207262e+01\n",
      "   2.69646416e+01  1.13722849e+01  1.79909935e+01  3.18714333e+01\n",
      "   4.01290054e+01  3.27783051e+01  2.09174576e+01 -7.42033100e+00\n",
      "   2.61100826e+01 -9.42337704e+00 -6.14776325e+00 -9.07097473e+01\n",
      "   3.72212982e+01  2.40599670e+01  1.21257496e+01 -8.27932129e+01\n",
      "   4.43108521e+01  9.08325672e+00 -4.95438957e+01  3.49534111e+01\n",
      "  -5.48613472e+01 -1.28496580e+01  5.67601383e-01  7.19759274e+00\n",
      "   3.04306526e+01  4.00785732e+00  3.02942123e+01  2.43102951e+01\n",
      "   7.08471489e+00 -5.23228989e+01 -3.81919479e+01  8.72970104e+00\n",
      "   2.55820966e+00  2.24677486e+01  6.63811588e+00  3.76571236e+01\n",
      "  -1.61592140e+01 -3.04896469e+01  1.63628426e+01 -9.03596344e+01\n",
      "   2.44950619e+01  1.99380341e+01  5.19142342e+00 -6.10662746e+00\n",
      "   1.27393618e+01 -3.75030403e+01  1.14239216e+01  1.95534134e+01\n",
      "   9.57347965e+00 -1.07627954e+01 -1.46831635e+02  4.31752300e+00\n",
      "   1.30459042e+01  2.40593872e+01 -3.98143578e+01 -1.52894664e+00\n",
      "   1.29417515e+01 -1.06854320e+00  2.74304569e-01  3.54266014e+01\n",
      "  -4.22668171e+00  1.58230953e+01 -1.23651323e+01  1.72285843e+01\n",
      "   3.26466484e+01  3.03069324e+01  2.04310646e+01 -4.55170059e+01\n",
      "   1.45777388e+01  1.14532003e+01 -1.07371223e+02 -8.10238876e+01\n",
      "   6.63496256e+00  4.11624432e+00  7.51704693e+00 -1.63013573e+01\n",
      "   2.48165607e+01 -5.71788521e+01  3.47412224e+01  3.78480988e+01\n",
      "   2.25206203e+01 -8.55148792e+00  1.83860664e+01  1.77204533e+01\n",
      "   4.84039783e+00  4.01715851e+01  9.63196933e-01 -4.13436089e+01\n",
      "   7.54722691e+00  2.39437027e+01 -2.71803737e+00  1.51639681e+01\n",
      "  -2.03350997e+00  2.43162022e+01 -4.26339226e+01 -1.69124756e+01\n",
      "   1.47814474e+01 -3.22347641e+01  2.05838623e+01 -2.28185921e+01\n",
      "   4.09592628e+01  5.09159470e+00 -5.68177044e-01  1.46561155e+01\n",
      "  -4.65644493e+01  1.35995560e+01 -1.76409836e+01  1.42024479e+01\n",
      "   5.09513321e+01  2.75015774e+01 -4.21334839e+01  9.49445629e+00]], shape=(3, 128), dtype=float32)\n",
      "loss = tf.Tensor(0.0, shape=(), dtype=float32)\n",
      "tf.Tensor([[5. 5.]], shape=(1, 2), dtype=float32)\n"
     ]
    },
    {
     "ename": "AssertionError",
     "evalue": "Wrong value. Did you add the alpha to basic_loss?",
     "output_type": "error",
     "traceback": [
      "\u001b[0;31m---------------------------------------------------------------------------\u001b[0m",
      "\u001b[0;31mAssertionError\u001b[0m                            Traceback (most recent call last)",
      "\u001b[0;32m<ipython-input-20-7e6f74a50ad8>\u001b[0m in \u001b[0;36m<module>\u001b[0;34m\u001b[0m\n\u001b[1;32m     14\u001b[0m \u001b[0my_pred_perfect\u001b[0m \u001b[0;34m=\u001b[0m \u001b[0;34m(\u001b[0m\u001b[0;34m[\u001b[0m\u001b[0;34m[\u001b[0m\u001b[0;36m1.\u001b[0m\u001b[0;34m,\u001b[0m \u001b[0;36m1.\u001b[0m\u001b[0;34m]\u001b[0m\u001b[0;34m]\u001b[0m\u001b[0;34m,\u001b[0m \u001b[0;34m[\u001b[0m\u001b[0;34m[\u001b[0m\u001b[0;36m1.\u001b[0m\u001b[0;34m,\u001b[0m \u001b[0;36m1.\u001b[0m\u001b[0;34m]\u001b[0m\u001b[0;34m]\u001b[0m\u001b[0;34m,\u001b[0m \u001b[0;34m[\u001b[0m\u001b[0;34m[\u001b[0m\u001b[0;36m1.\u001b[0m\u001b[0;34m,\u001b[0m \u001b[0;36m1.\u001b[0m\u001b[0;34m,\u001b[0m\u001b[0;34m]\u001b[0m\u001b[0;34m]\u001b[0m\u001b[0;34m)\u001b[0m\u001b[0;34m\u001b[0m\u001b[0;34m\u001b[0m\u001b[0m\n\u001b[1;32m     15\u001b[0m \u001b[0mloss\u001b[0m \u001b[0;34m=\u001b[0m \u001b[0mtriplet_loss\u001b[0m\u001b[0;34m(\u001b[0m\u001b[0my_true\u001b[0m\u001b[0;34m,\u001b[0m \u001b[0my_pred_perfect\u001b[0m\u001b[0;34m,\u001b[0m \u001b[0;36m5\u001b[0m\u001b[0;34m)\u001b[0m\u001b[0;34m\u001b[0m\u001b[0;34m\u001b[0m\u001b[0m\n\u001b[0;32m---> 16\u001b[0;31m \u001b[0;32massert\u001b[0m \u001b[0mloss\u001b[0m \u001b[0;34m==\u001b[0m \u001b[0;36m5\u001b[0m\u001b[0;34m,\u001b[0m \u001b[0;34m\"Wrong value. Did you add the alpha to basic_loss?\"\u001b[0m\u001b[0;34m\u001b[0m\u001b[0;34m\u001b[0m\u001b[0m\n\u001b[0m\u001b[1;32m     17\u001b[0m \u001b[0my_pred_perfect\u001b[0m \u001b[0;34m=\u001b[0m \u001b[0;34m(\u001b[0m\u001b[0;34m[\u001b[0m\u001b[0;34m[\u001b[0m\u001b[0;36m1.\u001b[0m\u001b[0;34m,\u001b[0m \u001b[0;36m1.\u001b[0m\u001b[0;34m]\u001b[0m\u001b[0;34m]\u001b[0m\u001b[0;34m,\u001b[0m\u001b[0;34m[\u001b[0m\u001b[0;34m[\u001b[0m\u001b[0;36m1.\u001b[0m\u001b[0;34m,\u001b[0m \u001b[0;36m1.\u001b[0m\u001b[0;34m]\u001b[0m\u001b[0;34m]\u001b[0m\u001b[0;34m,\u001b[0m \u001b[0;34m[\u001b[0m\u001b[0;34m[\u001b[0m\u001b[0;36m0.\u001b[0m\u001b[0;34m,\u001b[0m \u001b[0;36m0.\u001b[0m\u001b[0;34m,\u001b[0m\u001b[0;34m]\u001b[0m\u001b[0;34m]\u001b[0m\u001b[0;34m)\u001b[0m\u001b[0;34m\u001b[0m\u001b[0;34m\u001b[0m\u001b[0m\n\u001b[1;32m     18\u001b[0m \u001b[0mloss\u001b[0m \u001b[0;34m=\u001b[0m \u001b[0mtriplet_loss\u001b[0m\u001b[0;34m(\u001b[0m\u001b[0my_true\u001b[0m\u001b[0;34m,\u001b[0m \u001b[0my_pred_perfect\u001b[0m\u001b[0;34m,\u001b[0m \u001b[0;36m3\u001b[0m\u001b[0;34m)\u001b[0m\u001b[0;34m\u001b[0m\u001b[0;34m\u001b[0m\u001b[0m\n",
      "\u001b[0;31mAssertionError\u001b[0m: Wrong value. Did you add the alpha to basic_loss?"
     ]
    }
   ],
   "source": [
    "### YOU CANNOT EDIT THIS CELL\n",
    "\n",
    "# BEGIN UNIT TEST\n",
    "tf.random.set_seed(1)\n",
    "y_true = (None, None, None) # It is not used\n",
    "y_pred = (tf.keras.backend.random_normal([3, 128], mean=6, stddev=0.1, seed = 1),\n",
    "          tf.keras.backend.random_normal([3, 128], mean=1, stddev=1, seed = 1),\n",
    "          tf.keras.backend.random_normal([3, 128], mean=3, stddev=4, seed = 1))\n",
    "loss = triplet_loss(y_true, y_pred)\n",
    "\n",
    "assert type(loss) == tf.python.framework.ops.EagerTensor, \"Use tensorflow functions\"\n",
    "print(\"loss = \" + str(loss))\n",
    "\n",
    "y_pred_perfect = ([[1., 1.]], [[1., 1.]], [[1., 1.,]])\n",
    "loss = triplet_loss(y_true, y_pred_perfect, 5)\n",
    "assert loss == 5, \"Wrong value. Did you add the alpha to basic_loss?\"\n",
    "y_pred_perfect = ([[1., 1.]],[[1., 1.]], [[0., 0.,]])\n",
    "loss = triplet_loss(y_true, y_pred_perfect, 3)\n",
    "assert loss == 1., \"Wrong value. Check that pos_dist = 0 and neg_dist = 2 in this example\"\n",
    "y_pred_perfect = ([[1., 1.]],[[0., 0.]], [[1., 1.,]])\n",
    "loss = triplet_loss(y_true, y_pred_perfect, 0)\n",
    "assert loss == 2., \"Wrong value. Check that pos_dist = 2 and neg_dist = 0 in this example\"\n",
    "y_pred_perfect = ([[0., 0.]],[[0., 0.]], [[0., 0.,]])\n",
    "loss = triplet_loss(y_true, y_pred_perfect, -2)\n",
    "assert loss == 0, \"Wrong value. Are you taking the maximum between basic_loss and 0?\"\n",
    "y_pred_perfect = ([[1., 0.], [1., 0.]],[[1., 0.], [1., 0.]], [[0., 1.], [0., 1.]])\n",
    "loss = triplet_loss(y_true, y_pred_perfect, 3)\n",
    "assert loss == 2., \"Wrong value. Are you applying tf.reduce_sum to get the loss?\"\n",
    "y_pred_perfect = ([[1., 1.], [2., 0.]], [[0., 3.], [1., 1.]], [[1., 0.], [0., 1.,]])\n",
    "loss = triplet_loss(y_true, y_pred_perfect, 1)\n",
    "if (loss == 4.):\n",
    "    raise Exception('Perhaps you are not using axis=-1 in reduce_sum?')\n",
    "assert loss == 5, \"Wrong value. Check your implementation\"\n",
    "\n",
    "# END UNIT TEST"
   ]
  },
  {
   "cell_type": "markdown",
   "metadata": {},
   "source": [
    "**Expected Output**:\n",
    "\n",
    "<table>\n",
    "    <tr>\n",
    "        <td>\n",
    "            <b>loss:</b>\n",
    "        </td>\n",
    "        <td>\n",
    "           tf.Tensor(527.2598, shape=(), dtype=float32)\n",
    "        </td>\n",
    "    </tr>\n",
    "    </table>"
   ]
  },
  {
   "cell_type": "markdown",
   "metadata": {},
   "source": [
    "<a name='4'></a>\n",
    "## 4 - Loading the Pre-trained Model\n",
    "\n",
    "FaceNet is trained by minimizing the triplet loss. But since training requires a lot of data and a lot of computation, you won't train it from scratch here. Instead, you'll load a previously trained model in the following cell; which might take a couple of minutes to run."
   ]
  },
  {
   "cell_type": "code",
   "execution_count": null,
   "metadata": {
    "nbgrader": {
     "grade": false,
     "grade_id": "cell-953bcab8e9bbba10",
     "locked": true,
     "schema_version": 3,
     "solution": false,
     "task": false
    }
   },
   "outputs": [],
   "source": [
    "FRmodel = model"
   ]
  },
  {
   "cell_type": "markdown",
   "metadata": {},
   "source": [
    "Here are some examples of distances between the encodings between three individuals:\n",
    "\n",
    "<img src=\"images/distance_matrix.png\" style=\"width:380px;height:200px;\"><br>\n",
    "<caption><center> <u> <font color='purple'> <b>Figure 4:</b></u> <br>  <font color='purple'> Example of distance outputs between three individuals' encodings</center></caption>\n",
    "\n",
    "Now use this model to perform face verification and face recognition!"
   ]
  },
  {
   "cell_type": "markdown",
   "metadata": {},
   "source": [
    "<a name='5'></a>\n",
    "## 5 - Applying the Model\n",
    "\n",
    "You're building a system for an office building where the building manager would like to offer facial recognition to allow the employees to enter the building.\n",
    "\n",
    "You'd like to build a face verification system that gives access to a list of people. To be admitted, each person has to swipe an identification card at the entrance. The face recognition system then verifies that they are who they claim to be.\n",
    "\n",
    "<a name='5-1'></a>\n",
    "### 5.1 - Face Verification\n",
    "\n",
    "Now you'll build a database containing one encoding vector for each person who is allowed to enter the office. To generate the encoding, you'll use `img_to_encoding(image_path, model)`, which runs the forward propagation of the model on the specified image.\n",
    "\n",
    "Run the following code to build the database (represented as a Python dictionary). This database maps each person's name to a 128-dimensional encoding of their face."
   ]
  },
  {
   "cell_type": "code",
   "execution_count": null,
   "metadata": {},
   "outputs": [],
   "source": [
    "#tf.keras.backend.set_image_data_format('channels_last')\n",
    "def img_to_encoding(image_path, model):\n",
    "    img = tf.keras.preprocessing.image.load_img(image_path, target_size=(160, 160))\n",
    "    img = np.around(np.array(img) / 255.0, decimals=12)\n",
    "    x_train = np.expand_dims(img, axis=0)\n",
    "    embedding = model.predict_on_batch(x_train)\n",
    "    return embedding / np.linalg.norm(embedding, ord=2)"
   ]
  },
  {
   "cell_type": "code",
   "execution_count": null,
   "metadata": {},
   "outputs": [],
   "source": [
    "database = {}\n",
    "database[\"danielle\"] = img_to_encoding(\"images/danielle.png\", FRmodel)\n",
    "database[\"younes\"] = img_to_encoding(\"images/younes.jpg\", FRmodel)\n",
    "database[\"tian\"] = img_to_encoding(\"images/tian.jpg\", FRmodel)\n",
    "database[\"andrew\"] = img_to_encoding(\"images/andrew.jpg\", FRmodel)\n",
    "database[\"kian\"] = img_to_encoding(\"images/kian.jpg\", FRmodel)\n",
    "database[\"dan\"] = img_to_encoding(\"images/dan.jpg\", FRmodel)\n",
    "database[\"sebastiano\"] = img_to_encoding(\"images/sebastiano.jpg\", FRmodel)\n",
    "database[\"bertrand\"] = img_to_encoding(\"images/bertrand.jpg\", FRmodel)\n",
    "database[\"kevin\"] = img_to_encoding(\"images/kevin.jpg\", FRmodel)\n",
    "database[\"felix\"] = img_to_encoding(\"images/felix.jpg\", FRmodel)\n",
    "database[\"benoit\"] = img_to_encoding(\"images/benoit.jpg\", FRmodel)\n",
    "database[\"arnaud\"] = img_to_encoding(\"images/arnaud.jpg\", FRmodel)"
   ]
  },
  {
   "cell_type": "markdown",
   "metadata": {},
   "source": [
    "Load the images of Danielle and Kian: "
   ]
  },
  {
   "cell_type": "code",
   "execution_count": null,
   "metadata": {},
   "outputs": [],
   "source": [
    "danielle = tf.keras.preprocessing.image.load_img(\"images/danielle.png\", target_size=(160, 160))\n",
    "kian = tf.keras.preprocessing.image.load_img(\"images/kian.jpg\", target_size=(160, 160))"
   ]
  },
  {
   "cell_type": "code",
   "execution_count": null,
   "metadata": {},
   "outputs": [],
   "source": [
    "np.around(np.array(kian) / 255.0, decimals=12).shape"
   ]
  },
  {
   "cell_type": "code",
   "execution_count": null,
   "metadata": {},
   "outputs": [],
   "source": [
    "kian"
   ]
  },
  {
   "cell_type": "code",
   "execution_count": null,
   "metadata": {},
   "outputs": [],
   "source": [
    "np.around(np.array(danielle) / 255.0, decimals=12).shape"
   ]
  },
  {
   "cell_type": "code",
   "execution_count": null,
   "metadata": {},
   "outputs": [],
   "source": [
    "danielle"
   ]
  },
  {
   "cell_type": "markdown",
   "metadata": {},
   "source": [
    "Now, when someone shows up at your front door and swipes their ID card (thus giving you their name), you can look up their encoding in the database, and use it to check if the person standing at the front door matches the name on the ID.\n",
    "\n",
    "<a name='ex-2'></a>\n",
    "### Exercise 2 - verify\n",
    "\n",
    "Implement the `verify()` function, which checks if the front-door camera picture (`image_path`) is actually the person called \"identity\". You will have to go through the following steps:\n",
    "\n",
    "- Compute the encoding of the image from `image_path`.\n",
    "- Compute the distance between this encoding and the encoding of the identity image stored in the database.\n",
    "- Open the door if the distance is less than 0.7, else do not open it.\n",
    "\n",
    "As presented above, you should use the L2 distance `np.linalg.norm`.\n",
    "\n",
    "**Note**: In this implementation, compare the L2 distance, not the square of the L2 distance, to the threshold 0.7.\n",
    "\n",
    "*Hints*:\n",
    "\n",
    "- `identity` is a string that is also a key in the database dictionary.\n",
    "- `img_to_encoding` has two parameters: the image_path and model."
   ]
  },
  {
   "cell_type": "code",
   "execution_count": null,
   "metadata": {
    "nbgrader": {
     "grade": false,
     "grade_id": "cell-ba2f317e79e15a2f",
     "locked": false,
     "schema_version": 3,
     "solution": true,
     "task": false
    }
   },
   "outputs": [],
   "source": [
    "# UNQ_C2(UNIQUE CELL IDENTIFIER, DO NOT EDIT)\n",
    "# GRADED FUNCTION: verify\n",
    "\n",
    "def verify(image_path, identity, database, model):\n",
    "    \"\"\"\n",
    "    Function that verifies if the person on the \"image_path\" image is \"identity\".\n",
    "    \n",
    "    Arguments:\n",
    "        image_path -- path to an image\n",
    "        identity -- string, name of the person you'd like to verify the identity. Has to be an employee who works in the office.\n",
    "        database -- python dictionary mapping names of allowed people's names (strings) to their encodings (vectors).\n",
    "        model -- your Inception model instance in Keras\n",
    "    \n",
    "    Returns:\n",
    "        dist -- distance between the image_path and the image of \"identity\" in the database.\n",
    "        door_open -- True, if the door should open. False otherwise.\n",
    "    \"\"\"\n",
    "    ### START CODE HERE\n",
    "    # Step 1: Compute the encoding for the image. Use img_to_encoding() see example above. (≈ 1 line)\n",
    "    encoding = None\n",
    "    # Step 2: Compute distance with identity's image (≈ 1 line)\n",
    "    dist = None\n",
    "    # Step 3: Open the door if dist < 0.7, else don't open (≈ 3 lines)\n",
    "    if None:\n",
    "        print(\"It's \" + str(identity) + \", welcome in!\")\n",
    "        door_open = None\n",
    "    else:\n",
    "        print(\"It's not \" + str(identity) + \", please go away\")\n",
    "        door_open = None\n",
    "    ### END CODE HERE        \n",
    "    return dist, door_open"
   ]
  },
  {
   "cell_type": "markdown",
   "metadata": {},
   "source": [
    "Younes is trying to enter the office and the camera takes a picture of him (\"images/camera_0.jpg\"). Let's run your verification algorithm on this picture:\n",
    "\n",
    "<img src=\"images/camera_0.jpg\\\" style=\"width:100px;height:100px;\">"
   ]
  },
  {
   "cell_type": "code",
   "execution_count": null,
   "metadata": {
    "deletable": false,
    "editable": false,
    "nbgrader": {
     "grade": true,
     "grade_id": "cell-014d077254ad7d52",
     "locked": true,
     "points": 1,
     "schema_version": 3,
     "solution": false,
     "task": false
    }
   },
   "outputs": [],
   "source": [
    "### YOU CANNOT EDIT THIS CELL\n",
    "\n",
    "# BEGIN UNIT TEST\n",
    "distance, door_open_flag = verify(\"images/camera_0.jpg\", \"younes\", database, FRmodel)\n",
    "assert np.isclose(distance, 0.5992949), \"Distance not as expected\"\n",
    "assert isinstance(door_open_flag, bool), \"Door open flag should be a boolean\"\n",
    "print(\"(\", distance, \",\", door_open_flag, \")\")\n",
    "# END UNIT TEST"
   ]
  },
  {
   "cell_type": "markdown",
   "metadata": {},
   "source": [
    "**Expected Output**:\n",
    "\n",
    "<table>\n",
    "    <tr>\n",
    "        <td>\n",
    "            <b>It's younes, welcome in!</b>\n",
    "        </td>\n",
    "        <td>\n",
    "           (0.5992949, True)\n",
    "        </td>\n",
    "    </tr>\n",
    "    </table>"
   ]
  },
  {
   "cell_type": "markdown",
   "metadata": {},
   "source": [
    "Benoit, who does not work in the office, stole Kian's ID card and tried to enter the office. Naughty Benoit! The camera took a picture of Benoit (\"images/camera_2.jpg). \n",
    "\n",
    "<img src=\"images/camera_2.jpg\" style=\"width:100px;height:100px;\">\n",
    "\n",
    "Run the verification algorithm to check if Benoit can enter."
   ]
  },
  {
   "cell_type": "code",
   "execution_count": null,
   "metadata": {
    "deletable": false,
    "editable": false
   },
   "outputs": [],
   "source": [
    "### YOU CANNOT EDIT THIS CELL\n",
    "\n",
    "verify(\"images/camera_2.jpg\", \"kian\", database, FRmodel)"
   ]
  },
  {
   "cell_type": "markdown",
   "metadata": {},
   "source": [
    "**Expected Output**:\n",
    "\n",
    "<table>\n",
    "    <tr>\n",
    "        <td>\n",
    "            <b>It's not kian, please go away</b>\n",
    "        </td>\n",
    "        <td>\n",
    "           (1.0259346, False)\n",
    "        </td>\n",
    "    </tr>\n",
    "    </table>"
   ]
  },
  {
   "cell_type": "markdown",
   "metadata": {},
   "source": [
    "<a name='5-2'></a>\n",
    "### 5.2 - Face Recognition\n",
    "\n",
    "Your face verification system is mostly working. But since Kian got his ID card stolen, when he came back to the office the next day he couldn't get in!\n",
    "\n",
    "To solve this, you'd like to change your face verification system to a face recognition system. This way, no one has to carry an ID card anymore. An authorized person can just walk up to the building, and the door will unlock for them!\n",
    "\n",
    "You'll implement a face recognition system that takes as input an image, and figures out if it is one of the authorized persons (and if so, who). Unlike the previous face verification system, you will no longer get a person's name as one of the inputs.\n",
    "\n",
    "<a name='ex-3'></a>\n",
    "### Exercise 3 - who_is_it\n",
    "\n",
    "Implement `who_is_it()` with the following steps:\n",
    "\n",
    "- Compute the target encoding of the image from `image_path`\n",
    "- Find the encoding from the database that has smallest distance with the target encoding.\n",
    "- Initialize the `min_dist` variable to a large enough number (100). This helps you keep track of the closest encoding to the input's encoding.\n",
    "- Loop over the database dictionary's names and encodings. To loop use for (name, db_enc) in `database.items()`.\n",
    "- Compute the L2 distance between the target \"encoding\" and the current \"encoding\" from the database. If this distance is less than the min_dist, then set min_dist to dist, and identity to name."
   ]
  },
  {
   "cell_type": "code",
   "execution_count": null,
   "metadata": {
    "nbgrader": {
     "grade": false,
     "grade_id": "cell-a04ff2b5fd1186f8",
     "locked": false,
     "schema_version": 3,
     "solution": true,
     "task": false
    }
   },
   "outputs": [],
   "source": [
    "# UNQ_C3(UNIQUE CELL IDENTIFIER, DO NOT EDIT)\n",
    "# GRADED FUNCTION: who_is_it\n",
    "\n",
    "def who_is_it(image_path, database, model):\n",
    "    \"\"\"\n",
    "    Implements face recognition for the office by finding who is the person on the image_path image.\n",
    "    \n",
    "    Arguments:\n",
    "        image_path -- path to an image\n",
    "        database -- database containing image encodings along with the name of the person on the image\n",
    "        model -- your Inception model instance in Keras\n",
    "    \n",
    "    Returns:\n",
    "        min_dist -- the minimum distance between image_path encoding and the encodings from the database\n",
    "        identity -- string, the name prediction for the person on image_path\n",
    "    \"\"\"\n",
    "    \n",
    "    ### START CODE HERE\n",
    "\n",
    "    ## Step 1: Compute the target \"encoding\" for the image. Use img_to_encoding() see example above. ## (≈ 1 line)\n",
    "    encoding =  None\n",
    "    \n",
    "    ## Step 2: Find the closest encoding ##\n",
    "    \n",
    "    # Initialize \"min_dist\" to a large value, say 100 (≈1 line)\n",
    "    min_dist = None\n",
    "    \n",
    "    # Loop over the database dictionary's names and encodings.\n",
    "    for (name, db_enc) in database.items():\n",
    "        \n",
    "        # Compute L2 distance between the target \"encoding\" and the current db_enc from the database. (≈ 1 line)\n",
    "        dist = None\n",
    "\n",
    "        # If this distance is less than the min_dist, then set min_dist to dist, and identity to name. (≈ 3 lines)\n",
    "        if None:\n",
    "            min_dist = None\n",
    "            identity = None\n",
    "    ### END CODE HERE\n",
    "    \n",
    "    if min_dist > 0.7:\n",
    "        print(\"Not in the database.\")\n",
    "    else:\n",
    "        print (\"it's \" + str(identity) + \", the distance is \" + str(min_dist))\n",
    "        \n",
    "    return min_dist, identity"
   ]
  },
  {
   "cell_type": "markdown",
   "metadata": {},
   "source": [
    "Younes is at the front door and the camera takes a picture of him (\"images/camera_0.jpg\"). Let's see if your `who_it_is()` algorithm identifies Younes."
   ]
  },
  {
   "cell_type": "code",
   "execution_count": null,
   "metadata": {
    "deletable": false,
    "editable": false,
    "nbgrader": {
     "grade": true,
     "grade_id": "cell-9c88c8ab87677503",
     "locked": true,
     "points": 1,
     "schema_version": 3,
     "solution": false,
     "task": false
    }
   },
   "outputs": [],
   "source": [
    "### YOU CANNOT EDIT THIS CELL\n",
    "\n",
    "# BEGIN UNIT TEST\n",
    "# Test 1 with Younes pictures \n",
    "who_is_it(\"images/camera_0.jpg\", database, FRmodel)\n",
    "\n",
    "# Test 2 with Younes pictures \n",
    "test1 = who_is_it(\"images/camera_0.jpg\", database, FRmodel)\n",
    "assert np.isclose(test1[0], 0.5992946)\n",
    "assert test1[1] == 'younes'\n",
    "\n",
    "# Test 3 with Younes pictures \n",
    "test2 = who_is_it(\"images/younes.jpg\", database, FRmodel)\n",
    "assert np.isclose(test2[0], 0.0)\n",
    "assert test2[1] == 'younes'\n",
    "# END UNIT TEST"
   ]
  },
  {
   "cell_type": "markdown",
   "metadata": {},
   "source": [
    "**Expected Output**:\n",
    "\n",
    "<table>\n",
    "    <tr>\n",
    "        <td>\n",
    "            <b>it's younes, the distance is</b> 0.5992949<br>\n",
    "            <b>it's younes, the distance is</b> 0.5992949<br>\n",
    "            <b>it's younes, the distance is</b> 0.0<br>\n",
    "        </td>\n",
    "    </tr>\n",
    "    </table>\n",
    "\n",
    "You can change \"camera_0.jpg\" (picture of Younes) to \"camera_1.jpg\" (picture of Bertrand) and see the result."
   ]
  },
  {
   "cell_type": "markdown",
   "metadata": {},
   "source": [
    "**Congratulations**! \n",
    "You've completed this assignment, and your face recognition system is working well! It not only lets in authorized persons, but now people don't need to carry an ID card around anymore!\n",
    "\n",
    "You've now seen how a state-of-the-art face recognition system works, and can describe the difference between face recognition and face verification. Here's a quick recap of what you've accomplished: \n",
    "\n",
    "- Posed face recognition as a binary classification problem\n",
    "- Implemented one-shot learning for a face recognition problem\n",
    "- Applied the triplet loss function to learn a network's parameters in the context of face recognition\n",
    "- Mapped face images into 128-dimensional encodings using a pretrained model\n",
    "- Performed face verification and face recognition with these encodings\n",
    "\n",
    "Great work! "
   ]
  },
  {
   "cell_type": "markdown",
   "metadata": {},
   "source": [
    "<font color='blue'>\n",
    "    \n",
    "**What you should remember**:\n",
    "\n",
    "- Face verification solves an easier 1:1 matching problem; face recognition addresses a harder 1:K matching problem.\n",
    "    \n",
    "- Triplet loss is an effective loss function for training a neural network to learn an encoding of a face image.\n",
    "    \n",
    "- The same encoding can be used for verification and recognition. Measuring distances between two images' encodings allows you to determine whether they are pictures of the same person."
   ]
  },
  {
   "cell_type": "markdown",
   "metadata": {},
   "source": [
    "**Ways to improve your facial recognition model**:\n",
    "\n",
    "Although you won't implement these here, here are some ways to further improve the algorithm:\n",
    "\n",
    "- Put more images of each person (under different lighting conditions, taken on different days, etc.) into the database. Then, given a new image, compare the new face to multiple pictures of the person. This would increase accuracy.\n",
    "\n",
    "- Crop the images to contain just the face, and less of the \"border\" region around the face. This preprocessing removes some of the irrelevant pixels around the face, and also makes the algorithm more robust."
   ]
  },
  {
   "cell_type": "markdown",
   "metadata": {},
   "source": [
    "<a name='6'></a>\n",
    "## 6 - References\n",
    "1. Florian Schroff, Dmitry Kalenichenko, James Philbin (2015). [FaceNet: A Unified Embedding for Face Recognition and Clustering](https://arxiv.org/pdf/1503.03832.pdf)\n",
    "\n",
    "2. Yaniv Taigman, Ming Yang, Marc'Aurelio Ranzato, Lior Wolf (2014). [DeepFace: Closing the gap to human-level performance in face verification](https://research.fb.com/wp-content/uploads/2016/11/deepface-closing-the-gap-to-human-level-performance-in-face-verification.pdf)\n",
    "\n",
    "3. This implementation also took a lot of inspiration from the official FaceNet github repository: https://github.com/davidsandberg/facenet\n",
    "\n",
    "4. Further inspiration was found here: https://machinelearningmastery.com/how-to-develop-a-face-recognition-system-using-facenet-in-keras-and-an-svm-classifier/\n",
    "\n",
    "5. And here: https://github.com/nyoki-mtl/keras-facenet/blob/master/notebook/tf_to_keras.ipynb"
   ]
  }
 ],
 "metadata": {
  "kernelspec": {
   "display_name": "Python 3",
   "language": "python",
   "name": "python3"
  },
  "language_info": {
   "codemirror_mode": {
    "name": "ipython",
    "version": 3
   },
   "file_extension": ".py",
   "mimetype": "text/x-python",
   "name": "python",
   "nbconvert_exporter": "python",
   "pygments_lexer": "ipython3",
   "version": "3.7.6"
  }
 },
 "nbformat": 4,
 "nbformat_minor": 4
}
